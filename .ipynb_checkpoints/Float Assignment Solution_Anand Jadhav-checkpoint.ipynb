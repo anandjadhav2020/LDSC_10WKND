{
 "cells": [
  {
   "cell_type": "code",
   "execution_count": 1,
   "metadata": {},
   "outputs": [
    {
     "name": "stdout",
     "output_type": "stream",
     "text": [
      "10.2 <class 'float'>\n"
     ]
    }
   ],
   "source": [
    "# Q-1:Declare a float value and store it in a variable.\n",
    "# Check the type and print the id of the same.\n",
    "\n",
    "# Answer =>\n",
    "a = 10.20\n",
    "print(a,type(a))"
   ]
  },
  {
   "cell_type": "code",
   "execution_count": 13,
   "metadata": {},
   "outputs": [
    {
     "name": "stdout",
     "output_type": "stream",
     "text": [
      "44.739999999999995\n",
      "24.34\n",
      "352.308\n",
      "0.2953097857556456\n",
      "10.2\n",
      "0.0\n",
      "6.871474396935298e+34\n"
     ]
    }
   ],
   "source": [
    "# Q-2 : Arithmetic Operations on float\n",
    "# Take two different float values.\n",
    "# Store them in two different variables.\n",
    "# Do below operations on them:-\n",
    "\n",
    "#Answer =>\n",
    "a = 10.20\n",
    "b = 34.54\n",
    "#  Find sum of both numbers\n",
    "print(a+b)\n",
    "#  Find difference between them\n",
    "if a>b:\n",
    "    print(a-b)\n",
    "else:\n",
    "    print(b-a)\n",
    "#  Find the product of both numbers.\n",
    "print(a*b)\n",
    "#  Find value after dividing first num with second number\n",
    "print(a/b)\n",
    "#  Find the remainder after dividing first number with second number\n",
    "print(a%b)\n",
    "#  Find the quotient after dividing first number with second number\n",
    "print(a//b)\n",
    "#  Find the result of the first num to the power of the second number.\n",
    "print(a**b)"
   ]
  },
  {
   "cell_type": "code",
   "execution_count": 21,
   "metadata": {},
   "outputs": [
    {
     "name": "stdout",
     "output_type": "stream",
     "text": [
      "False <class 'bool'>\n",
      "True <class 'bool'>\n",
      "False <class 'bool'>\n",
      "True <class 'bool'>\n"
     ]
    }
   ],
   "source": [
    "# Q-3 Comparison Operators on float\n",
    "# Take two different float values.\n",
    "# Store them in two different variables.\n",
    "# Do below operations on them:-\n",
    "\n",
    "# Answer =>\n",
    "a = 56.77\n",
    "b = 66.88\n",
    "#  Compare these two numbers with below operator:-\n",
    "#  Greater than, '>'\n",
    "print((a>b),type(a>b))\n",
    "#  Smaller than, '<'\n",
    "print((a<b),type(a<b))\n",
    "#  Greater than or equal to, '>='\n",
    "print((a>=b),type(a>=b))\n",
    "#  Less than or equal to, '<='\n",
    "print((a<=b),type(a<=b))\n",
    "# Observe their output(return type should be boolean)\n"
   ]
  },
  {
   "cell_type": "code",
   "execution_count": 23,
   "metadata": {},
   "outputs": [
    {
     "name": "stdout",
     "output_type": "stream",
     "text": [
      "False <class 'bool'>\n",
      "True <class 'bool'>\n"
     ]
    }
   ],
   "source": [
    "# Q-4 Equality Operator\n",
    "# Take two different float values.\n",
    "# Store them in two different variables.\n",
    "\n",
    "# Answer =>\n",
    "a = 34.44\n",
    "b = 23.55\n",
    "# Equate them using equality operators (==, !=)\n",
    "# Observe the output(return type should be boolean)\n",
    "print((a == b),type(a == b))\n",
    "print((a != b),type(a != b))"
   ]
  },
  {
   "cell_type": "code",
   "execution_count": 7,
   "metadata": {},
   "outputs": [
    {
     "name": "stdout",
     "output_type": "stream",
     "text": [
      "0.0\n",
      "0.0\n",
      "0.0\n",
      "10.2\n",
      "20.3\n",
      "20.3\n",
      "0.0\n",
      "False\n",
      "True\n"
     ]
    }
   ],
   "source": [
    "# Q-5 Logical operators\n",
    "# Observe the output of below code\n",
    "# Cross check the output manually\n",
    "# print(10.20 and 20.30) #both are true and second value taken\n",
    "# >Output is 20.3\n",
    "# Answer =>\n",
    "\n",
    "print(0.0 and 20.30) #First is false so first value\n",
    "# taken->Output is 0.0\n",
    "print(20.30 and 0.0) #Goes to till second and second value is\n",
    "# false so second is taken>Output is 0.0\n",
    "print(0.0 and 0.0) #First is false so first value is\n",
    "# taken->Output is 0.0\n",
    "print(10.20 or 20.30) #First is True so first value is\n",
    "# taken>Output is 10.2\n",
    "print(0.0 or 20.30) #Goes to till second and second is true\n",
    "# second value is taken->Output is 20.3\n",
    "print(20.30 or 0.0) #First is True so first value is\n",
    "# taken->Output is 20.3\n",
    "print(0.0 or 0.0) #Goes to till second and second is also\n",
    "# false and second value is taken>Output is 0.0\n",
    "print(not 10.20) #-Not of true is false->Output is False\n",
    "print(not 0.0) #Not of false is True>Output is True\n"
   ]
  },
  {
   "cell_type": "code",
   "execution_count": null,
   "metadata": {},
   "outputs": [],
   "source": [
    "Q-6 What is the output of expression inside print statement. Cross check\n",
    "before running the program.\n",
    "a = 10.20\n",
    "b - 10.20\n",
    "print(a is b) #True or False? True 10.20<256\n",
    "print(a is not b) #True or False? False\n",
    "Why the Id of float values are different when the same value is\n",
    "assigned to two different variables\n",
    "ex: a = 10.5 b=10.5. but id will be same if I assign the variable\n",
    "having float i.e. a=c then both a and c's Id are same"
   ]
  }
 ],
 "metadata": {
  "kernelspec": {
   "display_name": "Python 3",
   "language": "python",
   "name": "python3"
  },
  "language_info": {
   "codemirror_mode": {
    "name": "ipython",
    "version": 3
   },
   "file_extension": ".py",
   "mimetype": "text/x-python",
   "name": "python",
   "nbconvert_exporter": "python",
   "pygments_lexer": "ipython3",
   "version": "3.8.5"
  }
 },
 "nbformat": 4,
 "nbformat_minor": 4
}
