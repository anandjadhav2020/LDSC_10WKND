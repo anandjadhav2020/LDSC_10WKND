{
 "cells": [
  {
   "cell_type": "code",
   "execution_count": 65,
   "metadata": {},
   "outputs": [
    {
     "name": "stdout",
     "output_type": "stream",
     "text": [
      "10 <class 'int'> 140705972103232\n"
     ]
    }
   ],
   "source": [
    "# Q-1 : Declare an int value and store it in a variable and Check the type and print the id of the same.\n",
    "\n",
    "# Answer =>\n",
    "var_1 = 10\n",
    "print(var_1,type(var_1),id(var_1))"
   ]
  },
  {
   "cell_type": "code",
   "execution_count": 66,
   "metadata": {},
   "outputs": [
    {
     "name": "stdout",
     "output_type": "stream",
     "text": [
      "140705972109312\n",
      "140705972109312\n",
      "True\n"
     ]
    }
   ],
   "source": [
    "# Q-2 :Take one int value between 0 - 256.\n",
    "# Assign it to two different variables.\n",
    "# Check the id of both the variables. It should come the same. Check why?\n",
    "\n",
    "# Answer =>\n",
    "a = 200\n",
    "b = 200\n",
    "print(id(a))\n",
    "print(id(b))\n",
    "print(a is b)"
   ]
  },
  {
   "cell_type": "code",
   "execution_count": 67,
   "metadata": {},
   "outputs": [
    {
     "name": "stdout",
     "output_type": "stream",
     "text": [
      "2422910345968\n",
      "2422910345872\n",
      "False\n"
     ]
    }
   ],
   "source": [
    "# Q-3 : Take one int value either less than -5 or greater than 256.\n",
    "# Assign it to two different variables.\n",
    "# Check the id of both the variables. It should come different.Check why?\n",
    "\n",
    "# Answer =>\n",
    "a = -10\n",
    "b = -10\n",
    "print(id(a))\n",
    "print(id(b))\n",
    "print(a is b)"
   ]
  },
  {
   "cell_type": "code",
   "execution_count": 68,
   "metadata": {},
   "outputs": [
    {
     "name": "stdout",
     "output_type": "stream",
     "text": [
      "30\n",
      "10\n",
      "200\n",
      "2.0\n",
      "0\n",
      "2\n",
      "10240000000000\n"
     ]
    }
   ],
   "source": [
    "# Q-4: Arithmetic Operations on integers\n",
    "# Take two different integer values.\n",
    "# Store them in two different variables.\n",
    "# Do below operations on them:-\n",
    "\n",
    "# Answer =>\n",
    "a = 20\n",
    "b = 10\n",
    "#  Find sum of both numbers: \n",
    "print(a+b)\n",
    "\n",
    "#  Find difference between them :\n",
    "if a>b:\n",
    "    print(a-b)\n",
    "\n",
    "else:\n",
    "    print(b-a)\n",
    "    \n",
    "#  Find the product of both numbers :\n",
    "print(a*b)\n",
    "\n",
    "#  Find value after dividing first num with second number :\n",
    "print(a/b)\n",
    "\n",
    "#  Find the remainder after dividing first number with second number:\n",
    "print(a%b)\n",
    "\n",
    "#  Find the quotient after dividing first number with second number :\n",
    "print(a//b)\n",
    "\n",
    "#  Find the result of the first num to the power of the second number :\n",
    "print(a**b)\n"
   ]
  },
  {
   "cell_type": "code",
   "execution_count": 69,
   "metadata": {},
   "outputs": [
    {
     "name": "stdout",
     "output_type": "stream",
     "text": [
      "True\n",
      "False\n",
      "True\n",
      "False\n"
     ]
    }
   ],
   "source": [
    "# Q-5: Comparison Operators on integers\n",
    "# Take two different integer values.\n",
    "# Store them in two different variables.\n",
    "# Do below operations on them:-\n",
    "\n",
    "# Answer =>\n",
    "a = 233\n",
    "b = 167\n",
    "#  Compare two numbers with below operator:-\n",
    "#  Greater than, '>'\n",
    "print(a>b)\n",
    "#  Smaller than, '<'\n",
    "print(a<b)\n",
    "#  Greater than or equal to, '>='\n",
    "print(a>=b)\n",
    "#  Less than or equal to, '<='\n",
    "print(a<=b)\n",
    "# Observe their output(return type should be boolean)\n"
   ]
  },
  {
   "cell_type": "code",
   "execution_count": 18,
   "metadata": {},
   "outputs": [
    {
     "name": "stdout",
     "output_type": "stream",
     "text": [
      "False\n",
      "True\n"
     ]
    }
   ],
   "source": [
    "# Q-6 :Equality Operator\n",
    "# Take two different integer values.\n",
    "# Store them in two different variables.\n",
    "# Equate them using equality operators (==, !=)\n",
    "# Observe the output(return type should be boolean)\n",
    "\n",
    "# Answer =>\n",
    "a = 10\n",
    "b = 20\n",
    "print(a == b)\n",
    "print(a != b)\n"
   ]
  },
  {
   "cell_type": "code",
   "execution_count": 70,
   "metadata": {},
   "outputs": [],
   "source": [
    "# Q-7:Logical operators\n",
    "# Observe the output of below code\n",
    "# Cross check the output manually\n",
    "# print(10 and 20)\n",
    "# 10 ----> 1 0 1 0\n",
    "# 20 ----> 1 0 1 0 0\n",
    "# --------------------\n",
    "#          1 0 1 0 0\n",
    "#----------------------------------------->Output is 20\n",
    "\n",
    "# print(0 and 20)\n",
    "# 0 ----> 0 0 0 0\n",
    "# 20 ---> 1 0 1 0 0\n",
    "# ------------------\n",
    "#         0 0 0 0 0\n",
    "#----------------------------------------->Output is 0\n",
    "\n",
    "# print(20 and 0)\n",
    "# 20 ---> 1 0 1 0 0\n",
    "# 0 ----> 0 0 0 0 0\n",
    "# --------------------\n",
    "#           0 0 0 0 0\n",
    "#----------------------------------------->Output is 0\n",
    "\n",
    "# print(0 and 0)\n",
    "# 0 ---> 0 0 0 \n",
    "# 0 ---> 0 0 0 \n",
    "# -------------\n",
    "#        0 0 0\n",
    "#----------------------------------------->Output is 0\n",
    "\n",
    "# print(10 or 20)\n",
    "# 10 ---> 1 0 1 0\n",
    "# 20 ---> 1 0 1 0 0\n",
    "# ------------------\n",
    "#         1 0 1 0 0\n",
    "# ----------------------------------------->Output is 10\n",
    "\n",
    "# print(0 or 20)\n",
    "# 0 ---> 0 0 0 0 \n",
    "# 20 --> 1 0 1 0 0\n",
    "# -----------------\n",
    "#        1 0 1 0 0\n",
    "\n",
    "# #----------------------------------------->Output is 20\n",
    "# print(20 or 0)\n",
    "# #----------------------------------------->Output is 20\n",
    "# print(0 or 0)\n",
    "# #----------------------------------------->Output is 0\n",
    "# print(not 10)\n",
    "# #----------------------------------------->Output is False\n",
    "# print(not 0)\n",
    "# #----------------------------------------->Output is True\n"
   ]
  },
  {
   "cell_type": "code",
   "execution_count": 37,
   "metadata": {},
   "outputs": [
    {
     "name": "stdout",
     "output_type": "stream",
     "text": [
      "0\n",
      "30\n",
      "30\n",
      "-11\n",
      "40\n",
      "2\n"
     ]
    }
   ],
   "source": [
    "# Q-8: Bitwise Operators\n",
    "# Do below operations on the values provided below:-\n",
    "#  Bitwise and(&) -----------------------------------------> 10, 20\n",
    "print(10&20)\n",
    "# -------> Output is 0\n",
    "#  Bitwise or(|) -----------------------------------------> 10, 20\n",
    "print(10|20)\n",
    "# -------> Output is 30\n",
    "#  Bitwise(^) -----------------------------------------> 10, 20\n",
    "print(10^20)\n",
    "# -------> Output is 30\n",
    "#  Bitwise negation(~) ------------------------------------> 10\n",
    "print(~10)\n",
    "# -------> Output is -11\n",
    "#  Bitwise left shift ------------------------------------> 10,2\n",
    "print(10<<2)\n",
    "# -------> Output is 40\n",
    "#  Bitwise right shift ------------------------------------> 10,2\n",
    "print(10>>2)\n",
    "# -------> Output is 2\n",
    "# Cross check the output manually"
   ]
  },
  {
   "cell_type": "code",
   "execution_count": 72,
   "metadata": {},
   "outputs": [
    {
     "name": "stdout",
     "output_type": "stream",
     "text": [
      "True\n",
      "False\n",
      "False\n",
      "True\n"
     ]
    }
   ],
   "source": [
    "# Q-9: What is the output of expression inside print statement. Cross check\n",
    "# before running the program.\n",
    "a = 10\n",
    "b = 10\n",
    "print(a is b) #True or False?\n",
    "print(a is not b) #True or False?\n",
    "a = 1000\n",
    "b = 1000\n",
    "print(a is b) #True or False?\n",
    "print(a is not b) #True or False?"
   ]
  },
  {
   "cell_type": "code",
   "execution_count": 54,
   "metadata": {},
   "outputs": [
    {
     "name": "stdout",
     "output_type": "stream",
     "text": [
      "20\n"
     ]
    }
   ],
   "source": [
    "# Q-10 : What is the output of expression inside print statement. Cross check\n",
    "# before running the program.\n",
    "print(10+(10*32)//2**5&20+(~(-10))<<2)\n",
    "# -----> (bracket ,**,//,+,<<,&)\n",
    "# Stepwise answer.\n",
    "# (10+320//2**5&20+(~(-10))<<2)  --> 1st left side bracket.\n",
    "# (10+320//2**5&20+9<<2) ---> 2nd right side bracket.\n",
    "# (10+320//32&20+9<<2) ---> 3rd Exponential(**) \n",
    "# (10+10&20+9<<2) ---> 4th Floar division (//) \n",
    "# (20&20+9<<2) ----> 5th left side Addition (+)\n",
    "# (20&29<<2) ----> 6th right side Addition(+)\n",
    "# print(20&116) ----> 7th left side shift operation (<<)\n",
    "# 20 -----> Bitwise and (&) operation."
   ]
  },
  {
   "cell_type": "code",
   "execution_count": 58,
   "metadata": {},
   "outputs": [
    {
     "name": "stdout",
     "output_type": "stream",
     "text": [
      "True\n",
      "False\n",
      "True\n",
      "True\n",
      "True\n",
      "False\n"
     ]
    }
   ],
   "source": [
    "# Q-11 :Membership operation\n",
    "# in, not in are two membership operators and it returns boolean value\n",
    "print('2' in 'Python2.7.8')\n",
    "print(10 not in [10,10.20,10+20j,'Python'])\n",
    "print(10 in (10,10.20,10+20j,'Python'))\n",
    "print(2 in {1,2,3})\n",
    "print(3 in {1:100, 2:200, 3:300})\n",
    "print(10 not in range(20))\n"
   ]
  },
  {
   "cell_type": "code",
   "execution_count": 62,
   "metadata": {},
   "outputs": [
    {
     "name": "stdout",
     "output_type": "stream",
     "text": [
      "0b10011010010100\n",
      "0o23224\n",
      "0x2694\n"
     ]
    }
   ],
   "source": [
    "# # Q-12:An integer can be represented in binary, octal or hexadecimal form.\n",
    "# Declare one binary, one octal and one hexadecimal value and store them\n",
    "# in three different variables.\n",
    "# Convert 9876 to its binary, octal and hexadecimal equivalent and print\n",
    "# their corresponding value.\n",
    "\n",
    "# Answer =>\n",
    "a = 9876\n",
    "b = print(bin(a))\n",
    "c = print(oct(a))\n",
    "d = print(hex(a))"
   ]
  },
  {
   "cell_type": "code",
   "execution_count": 63,
   "metadata": {},
   "outputs": [
    {
     "name": "stdout",
     "output_type": "stream",
     "text": [
      "80\n",
      "3870\n",
      "64222\n",
      "0b1010000\n",
      "0o7436\n",
      "0xfade\n",
      "0b1010000\n",
      "0b1111101011011110\n",
      "0o175336\n",
      "0o7436\n",
      "0x50\n",
      "0xfade\n"
     ]
    }
   ],
   "source": [
    "# Q-13: What will be the output of following:\n",
    "a = 0b1010000\n",
    "print(a)\n",
    "b = 0o7436\n",
    "print(b)\n",
    "c = 0xfade\n",
    "print(c)\n",
    "print(bin(80))\n",
    "print(oct(3870))\n",
    "print(hex(64222))\n",
    "print(bin(0b1010000))\n",
    "print(bin(0xfade))\n",
    "print(oct(0xfade))\n",
    "print(oct(0o7436))\n",
    "print(hex(0b1010000))\n",
    "print(hex(0xfade))"
   ]
  },
  {
   "cell_type": "code",
   "execution_count": null,
   "metadata": {},
   "outputs": [],
   "source": []
  }
 ],
 "metadata": {
  "kernelspec": {
   "display_name": "Python 3",
   "language": "python",
   "name": "python3"
  },
  "language_info": {
   "codemirror_mode": {
    "name": "ipython",
    "version": 3
   },
   "file_extension": ".py",
   "mimetype": "text/x-python",
   "name": "python",
   "nbconvert_exporter": "python",
   "pygments_lexer": "ipython3",
   "version": "3.8.5"
  }
 },
 "nbformat": 4,
 "nbformat_minor": 4
}
